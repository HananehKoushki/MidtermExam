{
  "cells": [
    {
      "cell_type": "code",
      "execution_count": null,
      "metadata": {
        "cellView": "form",
        "id": "906e07f6e562"
      },
      "outputs": [],
      "source": [
        "#@title Copyright 2020 The Cirq Developers\n",
        "# Licensed under the Apache License, Version 2.0 (the \"License\");\n",
        "# you may not use this file except in compliance with the License.\n",
        "# You may obtain a copy of the License at\n",
        "#\n",
        "# https://www.apache.org/licenses/LICENSE-2.0\n",
        "#\n",
        "# Unless required by applicable law or agreed to in writing, software\n",
        "# distributed under the License is distributed on an \"AS IS\" BASIS,\n",
        "# WITHOUT WARRANTIES OR CONDITIONS OF ANY KIND, either express or implied.\n",
        "# See the License for the specific language governing permissions and\n",
        "# limitations under the License."
      ]
    },
    {
      "cell_type": "markdown",
      "metadata": {
        "id": "7c5ad5c66a5b"
      },
      "source": [
        "# Textbook algorithms in Cirq"
      ]
    },
    {
      "cell_type": "markdown",
      "metadata": {
        "id": "15bb25b1082e"
      },
      "source": [
        "<table class=\"tfo-notebook-buttons\" align=\"left\">\n",
        "  <td>\n",
        "    <a target=\"_blank\" href=\"https://quantumai.google/cirq/experiments/textbook_algorithms\"><img src=\"https://quantumai.google/site-assets/images/buttons/quantumai_logo_1x.png\" />View on QuantumAI</a>\n",
        "  </td>\n",
        "  <td>\n",
        "    <a target=\"_blank\" href=\"https://colab.research.google.com/github/quantumlib/Cirq/blob/main/docs/experiments/textbook_algorithms.ipynb\"><img src=\"https://quantumai.google/site-assets/images/buttons/colab_logo_1x.png\" />Run in Google Colab</a>\n",
        "  </td>\n",
        "  <td>\n",
        "    <a target=\"_blank\" href=\"https://github.com/quantumlib/Cirq/blob/main/docs/experiments/textbook_algorithms.ipynb\"><img src=\"https://quantumai.google/site-assets/images/buttons/github_logo_1x.png\" />View source on GitHub</a>\n",
        "  </td>\n",
        "  <td>\n",
        "    <a href=\"https://storage.googleapis.com/tensorflow_docs/Cirq/docs/experiments/textbook_algorithms.ipynb\"><img src=\"https://quantumai.google/site-assets/images/buttons/download_icon_1x.png\" />Download notebook</a>\n",
        "  </td>\n",
        "</table>"
      ]
    },
    {
      "cell_type": "markdown",
      "metadata": {
        "id": "lORoela1QICx"
      },
      "source": [
        "In this notebook we'll run through some Cirq implementations of some of the standard algorithms that one encounters in an introductory quantum computing course. In particular, we will discuss the quantum teleportation algorithm, quantum Fourier transform, phase estimation algorithm, and Grover's algorithm. The discussion here is expanded from examples found in the [Cirq examples](https://github.com/quantumlib/Cirq/tree/main/examples) directory."
      ]
    },
    {
      "cell_type": "code",
      "execution_count": 6,
      "metadata": {
        "id": "pPMSHs4HQfSR"
      },
      "outputs": [],
      "source": [
        "try:\n",
        "    import cirq\n",
        "except ImportError:\n",
        "    print(\"installing cirq...\")\n",
        "    !pip install cirq --quiet\n",
        "    !pip install --upgrade attrs\n",
        "    !pip install new_package --install-requires attrs>=22.2.0\n",
        "    import cirq\n",
        "    print(\"installed cirq.\")"
      ]
    },
    {
      "cell_type": "code",
      "execution_count": 7,
      "metadata": {
        "id": "57aaba33f657"
      },
      "outputs": [],
      "source": [
        "import random\n",
        "import matplotlib.pyplot as plt\n",
        "import numpy as np"
      ]
    },
    {
      "cell_type": "markdown",
      "metadata": {
        "id": "laCvAwThaADq"
      },
      "source": [
        "## Quantum teleportation"
      ]
    },
    {
      "cell_type": "markdown",
      "metadata": {
        "id": "xytEjvt9cD5L"
      },
      "source": [
        "Quantum teleportation is a process by which a quantum state can be transmitted by sending only two classical bits of information. This is accomplished by pre-sharing an entangled state between the sender (Alice) and the receiver (Bob). This entangled state allows the receiver (Bob) of the two classical bits of information to possess a qubit with the same state as the one held by the sender (Alice).\n",
        "\n",
        "In the cell below, we define a function which implements the circuit for quantum teleportation. This function inputs a gate which prepares the *message qubit* in some state to transmit from Alice to Bob.\n",
        "\n",
        "> For more background on quantum teleportation or to see the mathematics of why it works, check out [the original paper](https://journals.aps.org/prl/abstract/10.1103/PhysRevLett.70.1895) or the [Wikipedia page](https://en.wikipedia.org/wiki/Quantum_teleportation)."
      ]
    },
    {
      "cell_type": "code",
      "execution_count": 8,
      "metadata": {
        "id": "Ex8ka640a5xN"
      },
      "outputs": [],
      "source": [
        "def make_quantum_teleportation_circuit(gate):\n",
        "    \"\"\"Returns a circuit for quantum teleportation.\n",
        "\n",
        "    This circuit 'teleports' a random qubit state prepared by\n",
        "    the input gate from Alice to Bob.\n",
        "    \"\"\"\n",
        "    circuit = cirq.Circuit()\n",
        "\n",
        "    # Get the three qubits involved in the teleportation protocol.\n",
        "    msg = cirq.NamedQubit(\"Message\")\n",
        "    alice = cirq.NamedQubit(\"Alice\")\n",
        "    bob = cirq.NamedQubit(\"Bob\")\n",
        "\n",
        "    # The input gate prepares the message to send.\n",
        "    circuit.append(gate(msg))\n",
        "\n",
        "    # Create a Bell state shared between Alice and Bob.\n",
        "    circuit.append([cirq.H(alice), cirq.CNOT(alice, bob)])\n",
        "\n",
        "    # Bell measurement of the Message and Alice's entangled qubit.\n",
        "    circuit.append([cirq.CNOT(msg, alice), cirq.H(msg), cirq.measure(msg, alice)])\n",
        "\n",
        "    # Uses the two classical bits from the Bell measurement to recover the\n",
        "    # original quantum message on Bob's entangled qubit.\n",
        "    circuit.append([cirq.CNOT(alice, bob), cirq.CZ(msg, bob)])\n",
        "\n",
        "    return circuit"
      ]
    },
    {
      "cell_type": "markdown",
      "metadata": {
        "id": "715674658f8c"
      },
      "source": [
        "Now, we define a gate to prepare the message qubit in some state, then visualize the teleportation circuit."
      ]
    },
    {
      "cell_type": "code",
      "execution_count": 9,
      "metadata": {
        "id": "023602d016d8",
        "outputId": "af7994e8-cbba-463d-a17e-79bceaba5311",
        "colab": {
          "base_uri": "https://localhost:8080/"
        }
      },
      "outputs": [
        {
          "output_type": "stream",
          "name": "stdout",
          "text": [
            "Teleportation circuit:\n",
            "\n",
            "Alice: ─────H────────@───X───────M───@───────\n",
            "                     │   │       │   │\n",
            "Bob: ────────────────X───┼───────┼───X───@───\n",
            "                         │       │       │\n",
            "Message: ───X^0.25───────@───H───M───────@───\n"
          ]
        }
      ],
      "source": [
        "\"\"\"Visualize the teleportation circuit.\"\"\"\n",
        "# Gate to put the message qubit in some state to send.\n",
        "gate = cirq.X ** 0.25\n",
        "\n",
        "# Create the teleportation circuit.\n",
        "circuit = make_quantum_teleportation_circuit(gate)\n",
        "print(\"Teleportation circuit:\\n\")\n",
        "print(circuit)"
      ]
    },
    {
      "cell_type": "markdown",
      "metadata": {
        "id": "18c3ed975229"
      },
      "source": [
        "As discussed, at the end of the circuit, Bob's qubit will be the state of the message qubit. We can verify this by simulating the circuit. First, we check what the state of the message qubit is given the above `gate`."
      ]
    },
    {
      "cell_type": "code",
      "execution_count": 10,
      "metadata": {
        "id": "d18db1bc5fb2",
        "outputId": "baea23a7-7a25-4ba3-cc65-42cdd690c2ae",
        "colab": {
          "base_uri": "https://localhost:8080/"
        }
      },
      "outputs": [
        {
          "output_type": "stream",
          "name": "stdout",
          "text": [
            "Bloch vector of message qubit:\n",
            "[ 0.    -0.707  0.707]\n"
          ]
        }
      ],
      "source": [
        "\"\"\"Display the Bloch vector of the message qubit.\"\"\"\n",
        "message = cirq.Circuit(gate.on(cirq.NamedQubit(\"Message\"))).final_state_vector()\n",
        "message_bloch_vector = cirq.bloch_vector_from_state_vector(message, index=0)\n",
        "print(\"Bloch vector of message qubit:\")\n",
        "print(np.round(message_bloch_vector, 3))"
      ]
    },
    {
      "cell_type": "markdown",
      "metadata": {
        "id": "7b59d87ff1ae"
      },
      "source": [
        "Now we simulate the entire teleportation circuit and check what the final state of Bob's qubit is."
      ]
    },
    {
      "cell_type": "code",
      "execution_count": 11,
      "metadata": {
        "id": "4303441fdb1f",
        "outputId": "735d873c-cad5-4959-f10b-cca0c424b401",
        "colab": {
          "base_uri": "https://localhost:8080/"
        }
      },
      "outputs": [
        {
          "output_type": "stream",
          "name": "stdout",
          "text": [
            "Bloch vector of Bob's qubit:\n",
            "[ 0.    -0.707  0.707]\n"
          ]
        }
      ],
      "source": [
        "\"\"\"Simulate the teleportation circuit and get the final state of Bob's qubit.\"\"\"\n",
        "# Get a simulator.\n",
        "sim = cirq.Simulator()\n",
        "\n",
        "# Simulate the teleportation circuit.\n",
        "result = sim.simulate(circuit)\n",
        "\n",
        "# Get the Bloch vector of Bob's qubit.\n",
        "bobs_bloch_vector = cirq.bloch_vector_from_state_vector(result.final_state_vector, index=1)\n",
        "print(\"Bloch vector of Bob's qubit:\")\n",
        "print(np.round(bobs_bloch_vector, 3))\n",
        "\n",
        "# Verify they are the same state!\n",
        "np.testing.assert_allclose(bobs_bloch_vector, message_bloch_vector, atol=1e-6)"
      ]
    },
    {
      "cell_type": "markdown",
      "metadata": {
        "id": "b906e52e2080"
      },
      "source": [
        "As we can see, the final state of Bob's qubit is the same as the initial state of the message qubit! One can change the `gate` above and re-run the protocol. The final state of Bob's qubit will always be the initial state of the message qubit."
      ]
    }
  ],
  "metadata": {
    "colab": {
      "toc_visible": true,
      "provenance": []
    },
    "kernelspec": {
      "display_name": "Python 3",
      "name": "python3"
    }
  },
  "nbformat": 4,
  "nbformat_minor": 0
}